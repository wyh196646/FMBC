{
 "cells": [
  {
   "cell_type": "code",
   "execution_count": null,
   "metadata": {},
   "outputs": [],
   "source": [
    "import numpy as np\n",
    "import pandas as pd\n",
    "import matplotlib.pyplot as plt\n",
    "import seaborn as sns\n",
    "\n",
    "# Sample data creation\n",
    "np.random.seed(42)\n",
    "models = [\"PLIP\", \"QuiltNet\", \"MI-Zero\", \"CONCH\", \"KEEP\"]\n",
    "datasets = [\"CAMELYON16\", \"PANDA\", \"AGGC22\"]\n",
    "\n",
    "# Generate synthetic AUROC and DICE scores for demonstration\n",
    "data = []\n",
    "for dataset in datasets:\n",
    "    for model in models:\n",
    "        auroc_scores = np.random.normal(loc=0.8 + 0.1 * np.random.rand(), scale=0.1, size=100)\n",
    "        dice_scores = np.random.normal(loc=0.3 + 0.1 * np.random.rand(), scale=0.1, size=100)\n",
    "        for score in auroc_scores:\n",
    "            data.append([dataset, model, score, \"AUROC\"])\n",
    "        for score in dice_scores:\n",
    "            data.append([dataset, model, score, \"DICE\"])\n",
    "\n",
    "df = pd.DataFrame(data, columns=[\"Dataset\", \"Model\", \"Score\", \"Metric\"])\n",
    "\n",
    "# Plotting\n",
    "fig, axes = plt.subplots(2, 3, figsize=(15, 10))\n",
    "fig.suptitle(\"Comparison of Models Across Datasets\")\n",
    "\n",
    "for i, dataset in enumerate(datasets):\n",
    "    ax_violin = axes[0, i]\n",
    "    ax_box = axes[1, i]\n",
    "\n",
    "    # Violin Plot (AUROC)\n",
    "    sns.violinplot(x=\"Model\", y=\"Score\", data=df[df[\"Dataset\"] == dataset][df[\"Metric\"] == \"AUROC\"], ax=ax_violin, inner=\"box\")\n",
    "    ax_violin.set_title(f\"AUROC - {dataset}\")\n",
    "    ax_violin.set_ylim(0, 1.2)\n",
    "\n",
    "    # Box Plot (DICE)\n",
    "    sns.boxplot(x=\"Model\", y=\"Score\", data=df[df[\"Dataset\"] == dataset][df[\"Metric\"] == \"DICE\"], ax=ax_box)\n",
    "    ax_box.set_title(f\"DICE - {dataset}\")\n",
    "    ax_box.set_ylim(0, 1)\n",
    "\n",
    "plt.tight_layout(rect=[0, 0, 1, 0.96])\n",
    "plt.show()\n"
   ]
  }
 ],
 "metadata": {
  "language_info": {
   "name": "python"
  }
 },
 "nbformat": 4,
 "nbformat_minor": 2
}
