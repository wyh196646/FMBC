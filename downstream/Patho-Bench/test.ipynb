{
 "cells": [
  {
   "cell_type": "code",
   "execution_count": 1,
   "metadata": {},
   "outputs": [
    {
     "name": "stdout",
     "output_type": "stream",
     "text": [
      "Loaded split from /home/yuhaowang/project/FMBC/downstream/Patho-Bench/BRACS_COARSE.tsv with 546 samples and 5 folds assigned.\n",
      "\u001b[94mSaving slide_id-level features to ./_test_pooled_features/by_slide_id/mean-UNI-NEW/BRACS, using mean-UNI-NEW...\u001b[0m\n"
     ]
    },
    {
     "name": "stderr",
     "output_type": "stream",
     "text": [
      "Pre-pooling features:   0%|          | 0/546 [00:00<?, ?it/s, Running on GPU 1...]"
     ]
    },
    {
     "name": "stdout",
     "output_type": "stream",
     "text": [
      "\u001b[93mWARNING: Could not automatically infer embedding_dim for mean encoder mean-UNI-NEW. Setting to None.\u001b[0m\n"
     ]
    },
    {
     "name": "stderr",
     "output_type": "stream",
     "text": [
      "Pre-pooling features: 100%|██████████| 546/546 [00:06<00:00, 83.11it/s, Running on GPU 1...] \n"
     ]
    },
    {
     "name": "stdout",
     "output_type": "stream",
     "text": [
      "Running linprobe experiment with C = 1...\n"
     ]
    },
    {
     "name": "stderr",
     "output_type": "stream",
     "text": [
      "Training on 497 samples: 100%|██████████| 5/5 [00:10<00:00,  2.08s/it]\n",
      "  0%|          | 0/5 [00:00<?, ?it/s]\n"
     ]
    },
    {
     "name": "stdout",
     "output_type": "stream",
     "text": [
      "No val set found. Skipping...\n"
     ]
    },
    {
     "name": "stderr",
     "output_type": "stream",
     "text": [
      "Running test split on 49 samples: 100%|██████████| 5/5 [00:01<00:00,  3.96it/s] "
     ]
    },
    {
     "name": "stdout",
     "output_type": "stream",
     "text": [
      "macro-ovr-auc: 0.844 ± 0.024\n"
     ]
    },
    {
     "name": "stderr",
     "output_type": "stream",
     "text": [
      "\n"
     ]
    }
   ],
   "source": [
    "from patho_bench.ExperimentFactory import ExperimentFactory # Make sure you have installed Patho-Bench and this imports correctly\n",
    "\n",
    "model_name = 'mean-UNI-NEW'\n",
    "train_source = 'BRACS' \n",
    "task_name = 'slidelevel_coarse'\n",
    "\n",
    "# Initialize the experiment\n",
    "experiment = ExperimentFactory.linprobe( # This is linear probing, but similar APIs are available for coxnet, protonet, retrieval, and finetune\n",
    "                    model_name = model_name,\n",
    "                    train_source = train_source,\n",
    "                    test_source = None, # Leave as default (None) to automatically use the test split of the training source\n",
    "                    task_name = task_name,\n",
    "                    patch_embeddings_dirs = '/data4/embedding/temp/embedding/BRACS/UNI-2', # Can be list of paths if patch features are split across multiple directories. See NOTE below.\n",
    "                    pooled_embeddings_root = './_test_pooled_features',\n",
    "                    splits_root = './_test_splits', # Splits are downloaded here from HuggingFace. You can also provide your own splits using the path_to_split and path_to_task_config arguments\n",
    "                    path_to_split ='/home/yuhaowang/project/FMBC/downstream/Patho-Bench/BRACS_COARSE.tsv',\n",
    "                    path_to_task_config = '/home/yuhaowang/project/FMBC/downstream/Patho-Bench/BRACS_COARSE.yaml',\n",
    "                    combine_slides_per_patient = False, # Only relevant for patient-level tasks with multiple slides per patient. See NOTE below.\n",
    "                    cost = 1,\n",
    "                    balanced = False,\n",
    "                    saveto = './_test_linprobe/{task_name}/{model_name}'.format(task_name=task_name, model_name=model_name),\n",
    "                )\n",
    "experiment.train()\n",
    "experiment.test()\n",
    "result = experiment.report_results(metric = 'macro-ovr-auc')"
   ]
  },
  {
   "cell_type": "code",
   "execution_count": null,
   "metadata": {},
   "outputs": [
    {
     "name": "stdout",
     "output_type": "stream",
     "text": [
      "Loaded split from /home/yuhaowang/project/FMBC/downstream/Patho-Bench/dataset_tsv/BRACS_COARSE.tsv with 546 samples and 5 folds assigned.\n",
      "\u001b[94mSaving slide_id-level features to ./_test_pooled_features/by_slide_id/mean-UNI-2/BRACS, using mean-UNI-2...\u001b[0m\n"
     ]
    },
    {
     "name": "stderr",
     "output_type": "stream",
     "text": [
      "Pre-pooling features: 100%|██████████| 546/546 [00:00<00:00, 1386.29it/s, Sample BRACS_1003734 already pooled, skipping...]\n"
     ]
    },
    {
     "name": "stdout",
     "output_type": "stream",
     "text": [
      "Running linprobe experiment with C = 1...\n"
     ]
    },
    {
     "name": "stderr",
     "output_type": "stream",
     "text": [
      "Training on 437 samples: 100%|██████████| 5/5 [00:08<00:00,  1.75s/it]\n",
      "  0%|          | 0/5 [00:00<?, ?it/s]\n"
     ]
    },
    {
     "name": "stdout",
     "output_type": "stream",
     "text": [
      "No val set found. Skipping...\n"
     ]
    },
    {
     "name": "stderr",
     "output_type": "stream",
     "text": [
      "Running test split on 109 samples: 100%|██████████| 5/5 [00:01<00:00,  3.25it/s]"
     ]
    },
    {
     "name": "stdout",
     "output_type": "stream",
     "text": [
      "macro-ovr-auc: 0.875 ± 0.007\n"
     ]
    },
    {
     "name": "stderr",
     "output_type": "stream",
     "text": [
      "\n"
     ]
    },
    {
     "ename": "",
     "evalue": "",
     "output_type": "error",
     "traceback": [
      "\u001b[1;31mThe Kernel crashed while executing code in the current cell or a previous cell. \n",
      "\u001b[1;31mPlease review the code in the cell(s) to identify a possible cause of the failure. \n",
      "\u001b[1;31mClick <a href='https://aka.ms/vscodeJupyterKernelCrash'>here</a> for more info. \n",
      "\u001b[1;31mView Jupyter <a href='command:jupyter.viewOutput'>log</a> for further details."
     ]
    }
   ],
   "source": [
    "from patho_bench.ExperimentFactory import ExperimentFactory # Make sure you have installed Patho-Bench and this imports correctly\n",
    "\n",
    "model_name = 'mean-UNI-2'\n",
    "train_source = 'BRACS' \n",
    "task_name = 'slide_coarse'\n",
    "\n",
    "# Initialize the experiment\n",
    "experiment = ExperimentFactory.linprobe( # This is linear probing, but similar APIs are available for coxnet, protonet, retrieval, and finetune\n",
    "                    model_name = model_name,\n",
    "                    train_source = train_source,\n",
    "                    test_source = None, # Leave as default (None) to automatically use the test split of the training source\n",
    "                    task_name = task_name,\n",
    "                    patch_embeddings_dirs = '/data4/embedding/BRACS/UNI-2', # Can be list of paths if patch features are split across multiple directories. See NOTE below.\n",
    "                    pooled_embeddings_root = './_test_pooled_features',\n",
    "                    splits_root = './_test_splits', # Splits are downloaded here from HuggingFace. You can also provide your own splits using the path_to_split and path_to_task_config arguments\n",
    "                    path_to_split ='/home/yuhaowddang/project/FMBC/downstream/Patho-Bench/dataset_tsv/BRACS_COARSE.tsv',\n",
    "                    path_to_task_config = '/home/yuhaowang/project/FMBC/downstream/Patho-Bench/BRACS_COARSE.yaml',\n",
    "                    combine_slides_per_patient = False, # Only relevant for patient-level tasks with multiple slides per patient. See NOTE below.\n",
    "                    cost = 1,\n",
    "                    balanced = False,\n",
    "                    saveto = './_test_linprobe/{task_name}/{model_name}'.format(task_name=task_name, model_name=model_name),\n",
    "                )\n",
    "experiment.train()\n",
    "experiment.test()\n",
    "result = experiment.report_results(metric = 'macro-ovr-auc')"
   ]
  },
  {
   "cell_type": "code",
   "execution_count": 6,
   "metadata": {},
   "outputs": [],
   "source": [
    "import h5py    \n",
    "def read_assets_from_h5( h5_path: str) -> tuple:\n",
    "        '''Read the assets from the h5 file'''\n",
    "        assets = {}\n",
    "        attrs = {}\n",
    "        with h5py.File(h5_path, 'r') as f:\n",
    "            for key in f.keys():\n",
    "                assets[key] = f[key][:]\n",
    "                if f[key].attrs is not None:\n",
    "                    attrs[key] = dict(f[key].attrs)\n",
    "        return assets, attrs\n",
    "data,_ = read_assets_from_h5('/data4/embedding/BRACS/CHIEF_tile/BRACS_1506.h5')"
   ]
  },
  {
   "cell_type": "code",
   "execution_count": 11,
   "metadata": {},
   "outputs": [],
   "source": [
    "import os\n",
    "import shutil\n",
    "data_dir ='/data4/embedding'\n",
    "for dataset in os.listdir(data_dir):\n",
    "    for model in os.listdir(os.path.join(data_dir,dataset)):\n",
    "        #print(model)\n",
    "        if model == 'CHIEF_tile':\n",
    "            #os.removedirs(os.path.join(data_dir,dataset,model))\n",
    "            shutil.rmtree(os.path.join(data_dir,dataset,model))"
   ]
  },
  {
   "cell_type": "code",
   "execution_count": 4,
   "metadata": {},
   "outputs": [],
   "source": [
    "import os\n",
    "import glob\n",
    "data_dir = '/data4/embedding/temp'\n",
    "file_list = glob.glob(os.path.join(data_dir,'**/*.h5'), recursive=True)\n",
    "print(len(file_list))"
   ]
  },
  {
   "cell_type": "code",
   "execution_count": 4,
   "metadata": {},
   "outputs": [],
   "source": [
    "import pandas as pd\n",
    "#read tsv file\n",
    "#/home/yuhaowang/project/FMBC/downstream/Patho-Bench/dataset_tsv/TCGA-BRCA-SUR-NEW.tsv\n",
    "df = pd.read_csv('/home/yuhaowang/project/FMBC/downstream/Patho-Bench/dataset_tsv/TCGA-BRCA-SUR-NEW.csv')"
   ]
  },
  {
   "cell_type": "code",
   "execution_count": null,
   "metadata": {},
   "outputs": [
    {
     "data": {
      "text/html": [
       "<div>\n",
       "<style scoped>\n",
       "    .dataframe tbody tr th:only-of-type {\n",
       "        vertical-align: middle;\n",
       "    }\n",
       "\n",
       "    .dataframe tbody tr th {\n",
       "        vertical-align: top;\n",
       "    }\n",
       "\n",
       "    .dataframe thead th {\n",
       "        text-align: right;\n",
       "    }\n",
       "</style>\n",
       "<table border=\"1\" class=\"dataframe\">\n",
       "  <thead>\n",
       "    <tr style=\"text-align: right;\">\n",
       "      <th></th>\n",
       "      <th>case_id</th>\n",
       "      <th>slide_id</th>\n",
       "      <th>OS_days</th>\n",
       "      <th>OS_event</th>\n",
       "      <th>OS</th>\n",
       "      <th>fold_0</th>\n",
       "      <th>fold_1</th>\n",
       "      <th>fold_2</th>\n",
       "      <th>fold_3</th>\n",
       "      <th>fold_4</th>\n",
       "    </tr>\n",
       "  </thead>\n",
       "  <tbody>\n",
       "    <tr>\n",
       "      <th>0</th>\n",
       "      <td>TCGA-3C-AALI-01</td>\n",
       "      <td>TCGA-3C-AALI-01Z-00-DX1.F6E9A5DF-D8FB-45CF-B4B...</td>\n",
       "      <td>4004</td>\n",
       "      <td>1</td>\n",
       "      <td>7</td>\n",
       "      <td>train</td>\n",
       "      <td>train</td>\n",
       "      <td>train</td>\n",
       "      <td>train</td>\n",
       "      <td>train</td>\n",
       "    </tr>\n",
       "    <tr>\n",
       "      <th>1</th>\n",
       "      <td>TCGA-3C-AALJ-01</td>\n",
       "      <td>TCGA-3C-AALJ-01Z-00-DX1.777C0957-255A-42F0-9EE...</td>\n",
       "      <td>1473</td>\n",
       "      <td>1</td>\n",
       "      <td>6</td>\n",
       "      <td>train</td>\n",
       "      <td>train</td>\n",
       "      <td>train</td>\n",
       "      <td>train</td>\n",
       "      <td>test</td>\n",
       "    </tr>\n",
       "    <tr>\n",
       "      <th>2</th>\n",
       "      <td>TCGA-3C-AALK-01</td>\n",
       "      <td>TCGA-3C-AALK-01Z-00-DX1.4E6EB156-BB19-410F-878...</td>\n",
       "      <td>1447</td>\n",
       "      <td>1</td>\n",
       "      <td>6</td>\n",
       "      <td>train</td>\n",
       "      <td>train</td>\n",
       "      <td>train</td>\n",
       "      <td>train</td>\n",
       "      <td>test</td>\n",
       "    </tr>\n",
       "    <tr>\n",
       "      <th>3</th>\n",
       "      <td>TCGA-4H-AAAK-01</td>\n",
       "      <td>TCGA-4H-AAAK-01Z-00-DX1.ABF1B042-1970-4E28-867...</td>\n",
       "      <td>347</td>\n",
       "      <td>1</td>\n",
       "      <td>4</td>\n",
       "      <td>train</td>\n",
       "      <td>train</td>\n",
       "      <td>train</td>\n",
       "      <td>train</td>\n",
       "      <td>test</td>\n",
       "    </tr>\n",
       "    <tr>\n",
       "      <th>4</th>\n",
       "      <td>TCGA-5L-AAT0-01</td>\n",
       "      <td>TCGA-5L-AAT0-01Z-00-DX1.5E171263-30BF-4C6B-88A...</td>\n",
       "      <td>1476</td>\n",
       "      <td>1</td>\n",
       "      <td>6</td>\n",
       "      <td>train</td>\n",
       "      <td>train</td>\n",
       "      <td>train</td>\n",
       "      <td>train</td>\n",
       "      <td>test</td>\n",
       "    </tr>\n",
       "    <tr>\n",
       "      <th>...</th>\n",
       "      <td>...</td>\n",
       "      <td>...</td>\n",
       "      <td>...</td>\n",
       "      <td>...</td>\n",
       "      <td>...</td>\n",
       "      <td>...</td>\n",
       "      <td>...</td>\n",
       "      <td>...</td>\n",
       "      <td>...</td>\n",
       "      <td>...</td>\n",
       "    </tr>\n",
       "    <tr>\n",
       "      <th>952</th>\n",
       "      <td>TCGA-WT-AB44-01</td>\n",
       "      <td>TCGA-WT-AB44-01Z-00-DX1.B6ECEA7C-DA26-4B34-88C...</td>\n",
       "      <td>882</td>\n",
       "      <td>1</td>\n",
       "      <td>6</td>\n",
       "      <td>train</td>\n",
       "      <td>train</td>\n",
       "      <td>train</td>\n",
       "      <td>train</td>\n",
       "      <td>train</td>\n",
       "    </tr>\n",
       "    <tr>\n",
       "      <th>953</th>\n",
       "      <td>TCGA-XX-A899-01</td>\n",
       "      <td>TCGA-XX-A899-01Z-00-DX1.08FE27B7-73B8-4CE3-ACF...</td>\n",
       "      <td>466</td>\n",
       "      <td>1</td>\n",
       "      <td>4</td>\n",
       "      <td>train</td>\n",
       "      <td>train</td>\n",
       "      <td>train</td>\n",
       "      <td>train</td>\n",
       "      <td>test</td>\n",
       "    </tr>\n",
       "    <tr>\n",
       "      <th>954</th>\n",
       "      <td>TCGA-XX-A89A-01</td>\n",
       "      <td>TCGA-XX-A89A-01Z-00-DX1.671E2AD6-4D1A-4579-88C...</td>\n",
       "      <td>487</td>\n",
       "      <td>1</td>\n",
       "      <td>5</td>\n",
       "      <td>train</td>\n",
       "      <td>train</td>\n",
       "      <td>train</td>\n",
       "      <td>train</td>\n",
       "      <td>train</td>\n",
       "    </tr>\n",
       "    <tr>\n",
       "      <th>955</th>\n",
       "      <td>TCGA-Z7-A8R5-01</td>\n",
       "      <td>TCGA-Z7-A8R5-01Z-00-DX1.3BDB407F-514C-4131-B05...</td>\n",
       "      <td>3286</td>\n",
       "      <td>1</td>\n",
       "      <td>7</td>\n",
       "      <td>train</td>\n",
       "      <td>train</td>\n",
       "      <td>train</td>\n",
       "      <td>train</td>\n",
       "      <td>train</td>\n",
       "    </tr>\n",
       "    <tr>\n",
       "      <th>956</th>\n",
       "      <td>TCGA-Z7-A8R6-01</td>\n",
       "      <td>TCGA-Z7-A8R6-01Z-00-DX1.CE4ED818-D762-4324-9DE...</td>\n",
       "      <td>3255</td>\n",
       "      <td>1</td>\n",
       "      <td>7</td>\n",
       "      <td>train</td>\n",
       "      <td>train</td>\n",
       "      <td>train</td>\n",
       "      <td>train</td>\n",
       "      <td>train</td>\n",
       "    </tr>\n",
       "  </tbody>\n",
       "</table>\n",
       "<p>957 rows × 10 columns</p>\n",
       "</div>"
      ],
      "text/plain": [
       "             case_id                                           slide_id  \\\n",
       "0    TCGA-3C-AALI-01  TCGA-3C-AALI-01Z-00-DX1.F6E9A5DF-D8FB-45CF-B4B...   \n",
       "1    TCGA-3C-AALJ-01  TCGA-3C-AALJ-01Z-00-DX1.777C0957-255A-42F0-9EE...   \n",
       "2    TCGA-3C-AALK-01  TCGA-3C-AALK-01Z-00-DX1.4E6EB156-BB19-410F-878...   \n",
       "3    TCGA-4H-AAAK-01  TCGA-4H-AAAK-01Z-00-DX1.ABF1B042-1970-4E28-867...   \n",
       "4    TCGA-5L-AAT0-01  TCGA-5L-AAT0-01Z-00-DX1.5E171263-30BF-4C6B-88A...   \n",
       "..               ...                                                ...   \n",
       "952  TCGA-WT-AB44-01  TCGA-WT-AB44-01Z-00-DX1.B6ECEA7C-DA26-4B34-88C...   \n",
       "953  TCGA-XX-A899-01  TCGA-XX-A899-01Z-00-DX1.08FE27B7-73B8-4CE3-ACF...   \n",
       "954  TCGA-XX-A89A-01  TCGA-XX-A89A-01Z-00-DX1.671E2AD6-4D1A-4579-88C...   \n",
       "955  TCGA-Z7-A8R5-01  TCGA-Z7-A8R5-01Z-00-DX1.3BDB407F-514C-4131-B05...   \n",
       "956  TCGA-Z7-A8R6-01  TCGA-Z7-A8R6-01Z-00-DX1.CE4ED818-D762-4324-9DE...   \n",
       "\n",
       "     OS_days  OS_event  OS fold_0 fold_1 fold_2 fold_3 fold_4  \n",
       "0       4004         1   7  train  train  train  train  train  \n",
       "1       1473         1   6  train  train  train  train   test  \n",
       "2       1447         1   6  train  train  train  train   test  \n",
       "3        347         1   4  train  train  train  train   test  \n",
       "4       1476         1   6  train  train  train  train   test  \n",
       "..       ...       ...  ..    ...    ...    ...    ...    ...  \n",
       "952      882         1   6  train  train  train  train  train  \n",
       "953      466         1   4  train  train  train  train   test  \n",
       "954      487         1   5  train  train  train  train  train  \n",
       "955     3286         1   7  train  train  train  train  train  \n",
       "956     3255         1   7  train  train  train  train  train  \n",
       "\n",
       "[957 rows x 10 columns]"
      ]
     },
     "execution_count": 5,
     "metadata": {},
     "output_type": "execute_result"
    }
   ],
   "source": [
    "df.dro"
   ]
  },
  {
   "cell_type": "code",
   "execution_count": 3,
   "metadata": {},
   "outputs": [
    {
     "ename": "TypeError",
     "evalue": "ExperimentFactory.coxnet() missing 2 required positional arguments: 'alpha' and 'l1_ratio'",
     "output_type": "error",
     "traceback": [
      "\u001b[0;31m---------------------------------------------------------------------------\u001b[0m",
      "\u001b[0;31mTypeError\u001b[0m                                 Traceback (most recent call last)",
      "Cell \u001b[0;32mIn[3], line 8\u001b[0m\n\u001b[1;32m      5\u001b[0m task_name \u001b[38;5;241m=\u001b[39m \u001b[38;5;124m'\u001b[39m\u001b[38;5;124mOS\u001b[39m\u001b[38;5;124m'\u001b[39m\n\u001b[1;32m      7\u001b[0m \u001b[38;5;66;03m# Initialize the experiment\u001b[39;00m\n\u001b[0;32m----> 8\u001b[0m experiment \u001b[38;5;241m=\u001b[39m ExperimentFactory\u001b[38;5;241m.\u001b[39mcoxnet( \u001b[38;5;66;03m# This is linear probing, but similar APIs are available for coxnet, protonet, retrieval, and finetune\u001b[39;00m\n\u001b[1;32m      9\u001b[0m                     model_name \u001b[38;5;241m=\u001b[39m model_name,\n\u001b[1;32m     10\u001b[0m                     train_source \u001b[38;5;241m=\u001b[39m train_source,\n\u001b[1;32m     11\u001b[0m                     test_source \u001b[38;5;241m=\u001b[39m \u001b[38;5;28;01mNone\u001b[39;00m, \u001b[38;5;66;03m# Leave as default (None) to automatically use the test split of the training source\u001b[39;00m\n\u001b[1;32m     12\u001b[0m                     task_name \u001b[38;5;241m=\u001b[39m task_name,\n\u001b[1;32m     13\u001b[0m                     patch_embeddings_dirs \u001b[38;5;241m=\u001b[39m \u001b[38;5;124m'\u001b[39m\u001b[38;5;124m/data4/embedding/TCGA-BRCA/UNI\u001b[39m\u001b[38;5;124m'\u001b[39m, \u001b[38;5;66;03m# Can be list of paths if patch features are split across multiple directories. See NOTE below.\u001b[39;00m\n\u001b[1;32m     14\u001b[0m                     pooled_embeddings_root \u001b[38;5;241m=\u001b[39m \u001b[38;5;124m'\u001b[39m\u001b[38;5;124m./_test_pooled_features\u001b[39m\u001b[38;5;124m'\u001b[39m,\n\u001b[1;32m     15\u001b[0m                     splits_root \u001b[38;5;241m=\u001b[39m \u001b[38;5;124m'\u001b[39m\u001b[38;5;124m./_test_splits\u001b[39m\u001b[38;5;124m'\u001b[39m, \u001b[38;5;66;03m# Splits are downloaded here from HuggingFace. You can also provide your own splits using the path_to_split and path_to_task_config arguments\u001b[39;00m\n\u001b[1;32m     16\u001b[0m                     path_to_split \u001b[38;5;241m=\u001b[39m\u001b[38;5;124m'\u001b[39m\u001b[38;5;124m/home/yuhaowang/project/FMBC/downstream/Patho-Bench/dataset_tsv/TCGA-BRCA-SUR-NEW.csv\u001b[39m\u001b[38;5;124m'\u001b[39m,\n\u001b[1;32m     17\u001b[0m                     path_to_task_config \u001b[38;5;241m=\u001b[39m \u001b[38;5;124m'\u001b[39m\u001b[38;5;124m/home/yuhaowang/project/FMBC/downstream/Patho-Bench/configs/TCGA-BRCA.yaml\u001b[39m\u001b[38;5;124m'\u001b[39m,\n\u001b[1;32m     18\u001b[0m                     combine_slides_per_patient \u001b[38;5;241m=\u001b[39m \u001b[38;5;28;01mFalse\u001b[39;00m, \u001b[38;5;66;03m# Only relevant for patient-level tasks with multiple slides per patient. See NOTE below.\u001b[39;00m\n\u001b[1;32m     19\u001b[0m                     \u001b[38;5;66;03m#cost = 1,\u001b[39;00m\n\u001b[1;32m     20\u001b[0m                     \u001b[38;5;66;03m#balanced = False,\u001b[39;00m\n\u001b[1;32m     21\u001b[0m                     saveto \u001b[38;5;241m=\u001b[39m \u001b[38;5;124m'\u001b[39m\u001b[38;5;124m./_test_linprobe/\u001b[39m\u001b[38;5;132;01m{task_name}\u001b[39;00m\u001b[38;5;124m/\u001b[39m\u001b[38;5;132;01m{model_name}\u001b[39;00m\u001b[38;5;124m'\u001b[39m\u001b[38;5;241m.\u001b[39mformat(task_name\u001b[38;5;241m=\u001b[39mtask_name, model_name\u001b[38;5;241m=\u001b[39mmodel_name),\n\u001b[1;32m     22\u001b[0m                 )\n\u001b[1;32m     23\u001b[0m experiment\u001b[38;5;241m.\u001b[39mtrain()\n\u001b[1;32m     24\u001b[0m experiment\u001b[38;5;241m.\u001b[39mtest()\n",
      "\u001b[0;31mTypeError\u001b[0m: ExperimentFactory.coxnet() missing 2 required positional arguments: 'alpha' and 'l1_ratio'"
     ]
    }
   ],
   "source": [
    "from patho_bench.ExperimentFactory import ExperimentFactory # Make sure you have installed Patho-Bench and this imports correctly\n",
    "\n",
    "model_name = 'mean-UNI'\n",
    "train_source = 'TCGA-BRCA' \n",
    "task_name = 'OS'\n",
    "\n",
    "# Initialize the experiment\n",
    "experiment = ExperimentFactory.coxnet( # This is linear probing, but similar APIs are available for coxnet, protonet, retrieval, and finetune\n",
    "                    model_name = model_name,\n",
    "                    train_source = train_source,\n",
    "                    test_source = None, # Leave as default (None) to automatically use the test split of the training source\n",
    "                    task_name = task_name,\n",
    "                    patch_embeddings_dirs = '/data4/embedding/TCGA-BRCA/UNI', # Can be list of paths if patch features are split across multiple directories. See NOTE below.\n",
    "                    pooled_embeddings_root = './_test_pooled_features',\n",
    "                    splits_root = './_test_splits', # Splits are downloaded here from HuggingFace. You can also provide your own splits using the path_to_split and path_to_task_config arguments\n",
    "                    path_to_split ='/home/yuhaowang/project/FMBC/downstream/Patho-Bench/dataset_tsv/TCGA-BRCA-SUR-NEW.csv',\n",
    "                    path_to_task_config = '/home/yuhaowang/project/FMBC/downstream/Patho-Bench/configs/TCGA-BRCA.yaml',\n",
    "                    combine_slides_per_patient = False, # Only relevant for patient-level tasks with multiple slides per patient. See NOTE below.\n",
    "                    #cost = 1,\n",
    "                    #balanced = False,\n",
    "                    saveto = './_test_linprobe/{task_name}/{model_name}'.format(task_name=task_name, model_name=model_name),\n",
    "                )\n",
    "experiment.train()\n",
    "experiment.test()\n",
    "result = experiment.report_results(metric = 'macro-ovr-auc')"
   ]
  }
 ],
 "metadata": {
  "kernelspec": {
   "display_name": "base",
   "language": "python",
   "name": "python3"
  },
  "language_info": {
   "codemirror_mode": {
    "name": "ipython",
    "version": 3
   },
   "file_extension": ".py",
   "mimetype": "text/x-python",
   "name": "python",
   "nbconvert_exporter": "python",
   "pygments_lexer": "ipython3",
   "version": "3.12.7"
  }
 },
 "nbformat": 4,
 "nbformat_minor": 2
}
