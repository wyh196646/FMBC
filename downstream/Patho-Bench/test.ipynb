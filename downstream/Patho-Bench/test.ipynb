{
 "cells": [
  {
   "cell_type": "code",
   "execution_count": 1,
   "metadata": {},
   "outputs": [
    {
     "name": "stdout",
     "output_type": "stream",
     "text": [
      "Loaded split from /home/yuhaowang/project/FMBC/downstream/Patho-Bench/BRACS_COARSE.tsv with 546 samples and 5 folds assigned.\n",
      "\u001b[94mSaving slide_id-level features to ./_test_pooled_features/by_slide_id/mean-UNI-NEW/BRACS, using mean-UNI-NEW...\u001b[0m\n"
     ]
    },
    {
     "name": "stderr",
     "output_type": "stream",
     "text": [
      "Pre-pooling features:   0%|          | 0/546 [00:00<?, ?it/s, Running on GPU 1...]"
     ]
    },
    {
     "name": "stdout",
     "output_type": "stream",
     "text": [
      "\u001b[93mWARNING: Could not automatically infer embedding_dim for mean encoder mean-UNI-NEW. Setting to None.\u001b[0m\n"
     ]
    },
    {
     "name": "stderr",
     "output_type": "stream",
     "text": [
      "Pre-pooling features: 100%|██████████| 546/546 [00:06<00:00, 83.11it/s, Running on GPU 1...] \n"
     ]
    },
    {
     "name": "stdout",
     "output_type": "stream",
     "text": [
      "Running linprobe experiment with C = 1...\n"
     ]
    },
    {
     "name": "stderr",
     "output_type": "stream",
     "text": [
      "Training on 497 samples: 100%|██████████| 5/5 [00:10<00:00,  2.08s/it]\n",
      "  0%|          | 0/5 [00:00<?, ?it/s]\n"
     ]
    },
    {
     "name": "stdout",
     "output_type": "stream",
     "text": [
      "No val set found. Skipping...\n"
     ]
    },
    {
     "name": "stderr",
     "output_type": "stream",
     "text": [
      "Running test split on 49 samples: 100%|██████████| 5/5 [00:01<00:00,  3.96it/s] "
     ]
    },
    {
     "name": "stdout",
     "output_type": "stream",
     "text": [
      "macro-ovr-auc: 0.844 ± 0.024\n"
     ]
    },
    {
     "name": "stderr",
     "output_type": "stream",
     "text": [
      "\n"
     ]
    }
   ],
   "source": [
    "from patho_bench.ExperimentFactory import ExperimentFactory # Make sure you have installed Patho-Bench and this imports correctly\n",
    "\n",
    "model_name = 'mean-UNI-NEW'\n",
    "train_source = 'BRACS' \n",
    "task_name = 'slidelevel_coarse'\n",
    "\n",
    "# Initialize the experiment\n",
    "experiment = ExperimentFactory.linprobe( # This is linear probing, but similar APIs are available for coxnet, protonet, retrieval, and finetune\n",
    "                    model_name = model_name,\n",
    "                    train_source = train_source,\n",
    "                    test_source = None, # Leave as default (None) to automatically use the test split of the training source\n",
    "                    task_name = task_name,\n",
    "                    patch_embeddings_dirs = '/data4/embedding/temp/embedding/BRACS/UNI-2', # Can be list of paths if patch features are split across multiple directories. See NOTE below.\n",
    "                    pooled_embeddings_root = './_test_pooled_features',\n",
    "                    splits_root = './_test_splits', # Splits are downloaded here from HuggingFace. You can also provide your own splits using the path_to_split and path_to_task_config arguments\n",
    "                    path_to_split ='/home/yuhaowang/project/FMBC/downstream/Patho-Bench/BRACS_COARSE.tsv',\n",
    "                    path_to_task_config = '/home/yuhaowang/project/FMBC/downstream/Patho-Bench/BRACS_COARSE.yaml',\n",
    "                    combine_slides_per_patient = False, # Only relevant for patient-level tasks with multiple slides per patient. See NOTE below.\n",
    "                    cost = 1,\n",
    "                    balanced = False,\n",
    "                    saveto = './_test_linprobe/{task_name}/{model_name}'.format(task_name=task_name, model_name=model_name),\n",
    "                )\n",
    "experiment.train()\n",
    "experiment.test()\n",
    "result = experiment.report_results(metric = 'macro-ovr-auc')"
   ]
  },
  {
   "cell_type": "code",
   "execution_count": 1,
   "metadata": {},
   "outputs": [
    {
     "name": "stdout",
     "output_type": "stream",
     "text": [
      "Loaded split from /home/yuhaowang/project/FMBC/downstream/Patho-Bench/BRACS_COARSE.tsv with 546 samples and 5 folds assigned.\n",
      "\u001b[94mSaving slide_id-level features to ./_test_pooled_features/by_slide_id/mean-UNI-2/BRACS, using mean-UNI-2...\u001b[0m\n"
     ]
    },
    {
     "name": "stderr",
     "output_type": "stream",
     "text": [
      "Pre-pooling features:   0%|          | 0/546 [00:00<?, ?it/s, Running on GPU 0...]"
     ]
    },
    {
     "name": "stdout",
     "output_type": "stream",
     "text": [
      "\u001b[93mWARNING: Could not automatically infer embedding_dim for mean encoder mean-UNI-2. Setting to None.\u001b[0m\n"
     ]
    },
    {
     "name": "stderr",
     "output_type": "stream",
     "text": [
      "Pre-pooling features: 100%|██████████| 546/546 [00:05<00:00, 91.59it/s, Running on GPU 0...] \n"
     ]
    },
    {
     "name": "stdout",
     "output_type": "stream",
     "text": [
      "Running linprobe experiment with C = 1...\n"
     ]
    },
    {
     "name": "stderr",
     "output_type": "stream",
     "text": [
      "Training on 497 samples: 100%|██████████| 5/5 [00:12<00:00,  2.59s/it]\n",
      "  0%|          | 0/5 [00:00<?, ?it/s]\n"
     ]
    },
    {
     "name": "stdout",
     "output_type": "stream",
     "text": [
      "No val set found. Skipping...\n"
     ]
    },
    {
     "name": "stderr",
     "output_type": "stream",
     "text": [
      "Running test split on 49 samples: 100%|██████████| 5/5 [00:01<00:00,  2.64it/s] "
     ]
    },
    {
     "name": "stdout",
     "output_type": "stream",
     "text": [
      "macro-ovr-auc: 0.844 ± 0.024\n"
     ]
    },
    {
     "name": "stderr",
     "output_type": "stream",
     "text": [
      "\n"
     ]
    }
   ],
   "source": [
    "from patho_bench.ExperimentFactory import ExperimentFactory # Make sure you have installed Patho-Bench and this imports correctly\n",
    "\n",
    "model_name = 'mean-UNI-2'\n",
    "train_source = 'BRACS' \n",
    "task_name = 'slidelevel_coarse'\n",
    "\n",
    "# Initialize the experiment\n",
    "experiment = ExperimentFactory.linprobe( # This is linear probing, but similar APIs are available for coxnet, protonet, retrieval, and finetune\n",
    "                    model_name = model_name,\n",
    "                    train_source = train_source,\n",
    "                    test_source = None, # Leave as default (None) to automatically use the test split of the training source\n",
    "                    task_name = task_name,\n",
    "                    patch_embeddings_dirs = '/data4/embedding/BRACS/UNI-2', # Can be list of paths if patch features are split across multiple directories. See NOTE below.\n",
    "                    pooled_embeddings_root = './_test_pooled_features',\n",
    "                    splits_root = './_test_splits', # Splits are downloaded here from HuggingFace. You can also provide your own splits using the path_to_split and path_to_task_config arguments\n",
    "                    path_to_split ='/home/yuhaowang/project/FMBC/downstream/Patho-Bench/BRACS_COARSE.tsv',\n",
    "                    path_to_task_config = '/home/yuhaowang/project/FMBC/downstream/Patho-Bench/BRACS_COARSE.yaml',\n",
    "                    combine_slides_per_patient = False, # Only relevant for patient-level tasks with multiple slides per patient. See NOTE below.\n",
    "                    cost = 1,\n",
    "                    balanced = False,\n",
    "                    saveto = './_test_linprobe/{task_name}/{model_name}'.format(task_name=task_name, model_name=model_name),\n",
    "                )\n",
    "experiment.train()\n",
    "experiment.test()\n",
    "result = experiment.report_results(metric = 'macro-ovr-auc')"
   ]
  },
  {
   "cell_type": "code",
   "execution_count": null,
   "metadata": {},
   "outputs": [
    {
     "name": "stdout",
     "output_type": "stream",
     "text": [
      "<KeysViewHDF5 ['features']>\n"
     ]
    }
   ],
   "source": [
    "import h5py\n",
    "test_case = '/home/yuhaowang/project/FMBC/downstream/Patho-Bench/_test_pooled_features/by_slide_id/mean-FMBC/BRACS/BRACS_1003716.h5'\n",
    "with h5py.File(test_case, 'r') as f:\n",
    "    print(f.keys())\n",
    "    #data=f['features']"
   ]
  },
  {
   "cell_type": "code",
   "execution_count": 11,
   "metadata": {},
   "outputs": [],
   "source": [
    "def read_assets_from_h5(h5_path: str) -> tuple:\n",
    "    '''Read the assets from the h5 file'''\n",
    "    assets = {}\n",
    "    attrs = {}\n",
    "    with h5py.File(h5_path, 'r') as f:\n",
    "        for key in f.keys():\n",
    "            assets[key] = f[key][:]\n",
    "            if f[key].attrs is not None:\n",
    "                attrs[key] = dict(f[key].attrs)\n",
    "    return assets, attrs"
   ]
  },
  {
   "cell_type": "code",
   "execution_count": 12,
   "metadata": {},
   "outputs": [],
   "source": [
    "a,b = read_assets_from_h5(test_case)"
   ]
  },
  {
   "cell_type": "code",
   "execution_count": 3,
   "metadata": {},
   "outputs": [],
   "source": [
    "import os\n",
    "import h5py\n",
    "def load_h5(load_path, keys = None):\n",
    "    '''\n",
    "    Loads an hdf5 file and returns a dictionary of assets\n",
    "\n",
    "    Args:\n",
    "        load_path (str): The path to the hdf5 file\n",
    "        keys (list, optional): A list of keys to load. Defaults to None.\n",
    "\n",
    "    Returns:\n",
    "        assets (dict): A dictionary of assets\n",
    "        attributes (dict): A dictionary of attributes\n",
    "    '''\n",
    "    assert isinstance(keys, list) or keys is None, 'keys must be a list or None'\n",
    "    assert os.path.exists(load_path), f'File {load_path} does not exist'\n",
    "    \n",
    "    try:\n",
    "        with h5py.File(load_path, 'r') as file:\n",
    "            if keys is None:\n",
    "                keys = list(file.keys())\n",
    "            assets = {key: file[key][:] for key in keys}\n",
    "            attributes = {key: dict(file[key].attrs) for key in keys}\n",
    "    except Exception as e:\n",
    "        raise Exception(f'\\033[91mError loading h5 file at {load_path}\\033[0m')\n",
    "                \n",
    "    return assets, attributes"
   ]
  }
 ],
 "metadata": {
  "kernelspec": {
   "display_name": "pathobench",
   "language": "python",
   "name": "python3"
  },
  "language_info": {
   "codemirror_mode": {
    "name": "ipython",
    "version": 3
   },
   "file_extension": ".py",
   "mimetype": "text/x-python",
   "name": "python",
   "nbconvert_exporter": "python",
   "pygments_lexer": "ipython3",
   "version": "3.10.16"
  }
 },
 "nbformat": 4,
 "nbformat_minor": 2
}
