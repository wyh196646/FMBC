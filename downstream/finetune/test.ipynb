{
 "cells": [
  {
   "cell_type": "code",
   "execution_count": null,
   "metadata": {},
   "outputs": [
    {
     "name": "stdout",
     "output_type": "stream",
     "text": [
      "['/home/yuhaowang/project/FMBC/downstream/finetune/dataset_csv/IMPRESS_CD8-PERITUMORAL.CSV', '/home/yuhaowang/project/FMBC/downstream/finetune/dataset_csv/AHSL-NON-IDC-GRADE.CSV', '/home/yuhaowang/project/FMBC/downstream/finetune/dataset_csv/SLNBREAST_SUBTYPE.CSV', '/home/yuhaowang/project/FMBC/downstream/finetune/dataset_csv/NK CELLS.CSV', '/home/yuhaowang/project/FMBC/downstream/finetune/dataset_csv/ACT.CD4.CSV', '/home/yuhaowang/project/FMBC/downstream/finetune/dataset_csv/TAP2.CSV', '/home/yuhaowang/project/FMBC/downstream/finetune/dataset_csv/POSTNAT_3SUBTYPE.CSV', '/home/yuhaowang/project/FMBC/downstream/finetune/dataset_csv/T CELLS.CSV', '/home/yuhaowang/project/FMBC/downstream/finetune/dataset_csv/CAMELYON16_TRAIN_SLIDE_LABELS.CSV', '/home/yuhaowang/project/FMBC/downstream/finetune/dataset_csv/MONOCYTIC LINEAGE.CSV', '/home/yuhaowang/project/FMBC/downstream/finetune/dataset_csv/TCGA-BRCA_N.CSV', '/home/yuhaowang/project/FMBC/downstream/finetune/dataset_csv/CD8 T CELLS.CSV', '/home/yuhaowang/project/FMBC/downstream/finetune/dataset_csv/ZHIJIAN2.CSV', '/home/yuhaowang/project/FMBC/downstream/finetune/dataset_csv/TCGA-BRCA_GENECOUNTS.CSV', '/home/yuhaowang/project/FMBC/downstream/finetune/dataset_csv/CPTAC_GENE.CSV', '/home/yuhaowang/project/FMBC/downstream/finetune/dataset_csv/CYTOTOXIC LYMPHOCYTES.CSV', '/home/yuhaowang/project/FMBC/downstream/finetune/dataset_csv/POST-NAT-PR.CSV', '/home/yuhaowang/project/FMBC/downstream/finetune/dataset_csv/TCGA-BRCA_TPMS_LOG2.CSV', '/home/yuhaowang/project/FMBC/downstream/finetune/dataset_csv/ZHIJIAN.CSV', '/home/yuhaowang/project/FMBC/downstream/finetune/dataset_csv/MULTI-OMIC_FRACTION_CANCER.CSV', '/home/yuhaowang/project/FMBC/downstream/finetune/dataset_csv/TIGIT.CSV', '/home/yuhaowang/project/FMBC/downstream/finetune/dataset_csv/DORID_2.CSV', '/home/yuhaowang/project/FMBC/downstream/finetune/dataset_csv/GTEXGENE.CSV', '/home/yuhaowang/project/FMBC/downstream/finetune/dataset_csv/POST-NAT-3TYPE.CSV', '/home/yuhaowang/project/FMBC/downstream/finetune/dataset_csv/IMPRESS_PR.CSV', '/home/yuhaowang/project/FMBC/downstream/finetune/dataset_csv/BCNB_ALN.CSV', '/home/yuhaowang/project/FMBC/downstream/finetune/dataset_csv/B2M.CSV', '/home/yuhaowang/project/FMBC/downstream/finetune/dataset_csv/HLA.C.CSV', '/home/yuhaowang/project/FMBC/downstream/finetune/dataset_csv/TUPAC_TUMOR_SCORE.CSV', '/home/yuhaowang/project/FMBC/downstream/finetune/dataset_csv/POST-NAT-ER.CSV', '/home/yuhaowang/project/FMBC/downstream/finetune/dataset_csv/BRACS_COARSE.CSV', '/home/yuhaowang/project/FMBC/downstream/finetune/dataset_csv/TCGA-BRCA_T.CSV', '/home/yuhaowang/project/FMBC/downstream/finetune/dataset_csv/ENDOTHELIAL CELLS.CSV', '/home/yuhaowang/project/FMBC/downstream/finetune/dataset_csv/IMPRESS_CD163-PERITUMORAL.CSV', '/home/yuhaowang/project/FMBC/downstream/finetune/dataset_csv/HLA.DPA1.CSV', '/home/yuhaowang/project/FMBC/downstream/finetune/dataset_csv/PD.L1.CSV', '/home/yuhaowang/project/FMBC/downstream/finetune/dataset_csv/ZHIJIAN-BENIGN.CSV', '/home/yuhaowang/project/FMBC/downstream/finetune/dataset_csv/BREAKHISBENIGN_4SUBTYPE.CSV', '/home/yuhaowang/project/FMBC/downstream/finetune/dataset_csv/BRACS_FINE.CSV', '/home/yuhaowang/project/FMBC/downstream/finetune/dataset_csv/BACH_TUMOR.CSV', '/home/yuhaowang/project/FMBC/downstream/finetune/dataset_csv/IMPRESS_CD8-INTRATUMORAL.CSV', '/home/yuhaowang/project/FMBC/downstream/finetune/dataset_csv/HLA.B.CSV', '/home/yuhaowang/project/FMBC/downstream/finetune/dataset_csv/TEM.CD4.CSV', '/home/yuhaowang/project/FMBC/downstream/finetune/dataset_csv/BCNB_ER.CSV', '/home/yuhaowang/project/FMBC/downstream/finetune/dataset_csv/GTEXYUHOU.CSV', '/home/yuhaowang/project/FMBC/downstream/finetune/dataset_csv/IMPRESS_PD-L1-TUMOR.CSV', '/home/yuhaowang/project/FMBC/downstream/finetune/dataset_csv/MYELOID DENDRITIC CELLS.CSV', '/home/yuhaowang/project/FMBC/downstream/finetune/dataset_csv/AIDPATH_IDC.CSV', '/home/yuhaowang/project/FMBC/downstream/finetune/dataset_csv/PD.1.CSV', '/home/yuhaowang/project/FMBC/downstream/finetune/dataset_csv/ACT.CD8.CSV', '/home/yuhaowang/project/FMBC/downstream/finetune/dataset_csv/CAMELYON16_TEST_CANCER.CSV', '/home/yuhaowang/project/FMBC/downstream/finetune/dataset_csv/CAMELYON16_TEST_IDC.CSV', '/home/yuhaowang/project/FMBC/downstream/finetune/dataset_csv/PD.L2.CSV', '/home/yuhaowang/project/FMBC/downstream/finetune/dataset_csv/CPTAC_IDC.CSV', '/home/yuhaowang/project/FMBC/downstream/finetune/dataset_csv/HLA.DPB1.CSV', '/home/yuhaowang/project/FMBC/downstream/finetune/dataset_csv/MULTI-OMIC_HRD.CSV', '/home/yuhaowang/project/FMBC/downstream/finetune/dataset_csv/CAMELYON17_PN.CSV', '/home/yuhaowang/project/FMBC/downstream/finetune/dataset_csv/CAMELYON16_TUMOR_LABELS.CSV', '/home/yuhaowang/project/FMBC/downstream/finetune/dataset_csv/BRCA-6-GENE_TCGA.CSV', '/home/yuhaowang/project/FMBC/downstream/finetune/dataset_csv/B LINEAGE.CSV', '/home/yuhaowang/project/FMBC/downstream/finetune/dataset_csv/CAMELYON17_STAGE_4SUBTYPING.CSV', '/home/yuhaowang/project/FMBC/downstream/finetune/dataset_csv/TUPAC_MOLECULAR_SCORE.CSV', '/home/yuhaowang/project/FMBC/downstream/finetune/dataset_csv/BREAKHIS_MALIGNANT_4SUBTYPE.CSV', '/home/yuhaowang/project/FMBC/downstream/finetune/dataset_csv/TCGA-BRCA_STAGE.CSV', '/home/yuhaowang/project/FMBC/downstream/finetune/dataset_csv/IDO1.CSV', '/home/yuhaowang/project/FMBC/downstream/finetune/dataset_csv/IMPRESS_RESIDUAL-TUMOR.CSV', '/home/yuhaowang/project/FMBC/downstream/finetune/dataset_csv/AIDPATH_KI67PRED.CSV', '/home/yuhaowang/project/FMBC/downstream/finetune/dataset_csv/IMPRESS_ER.CSV', '/home/yuhaowang/project/FMBC/downstream/finetune/dataset_csv/POST-NAT-ANTIHER2.CSV', '/home/yuhaowang/project/FMBC/downstream/finetune/dataset_csv/TIGER-TIL-SCORES-WSITILS.CSV', '/home/yuhaowang/project/FMBC/downstream/finetune/dataset_csv/LUAD-5-GENE_TCGA.CSV', '/home/yuhaowang/project/FMBC/downstream/finetune/dataset_csv/AIDPATH_RESTR.CSV', '/home/yuhaowang/project/FMBC/downstream/finetune/dataset_csv/AHSL-GRADE.CSV', '/home/yuhaowang/project/FMBC/downstream/finetune/dataset_csv/TCGA-GENEXP.CSV', '/home/yuhaowang/project/FMBC/downstream/finetune/dataset_csv/TAP1.CSV', '/home/yuhaowang/project/FMBC/downstream/finetune/dataset_csv/TCGA-BRCA_M.CSV', '/home/yuhaowang/project/FMBC/downstream/finetune/dataset_csv/NEUTROPHILS.CSV', '/home/yuhaowang/project/FMBC/downstream/finetune/dataset_csv/MULTI-OMIC_RNASEQ.CSV', '/home/yuhaowang/project/FMBC/downstream/finetune/dataset_csv/ICOS.CSV', '/home/yuhaowang/project/FMBC/downstream/finetune/dataset_csv/TCGA-BRCA_FPKMS_LOG2.CSV', '/home/yuhaowang/project/FMBC/downstream/finetune/dataset_csv/DORID_6.CSV', '/home/yuhaowang/project/FMBC/downstream/finetune/dataset_csv/BREAKHIS_TUMOR_SUBTYPE.CSV', '/home/yuhaowang/project/FMBC/downstream/finetune/dataset_csv/CPTAC_AJCC8SUBTYPE.CSV', '/home/yuhaowang/project/FMBC/downstream/finetune/dataset_csv/FIBROBLASTS.CSV', '/home/yuhaowang/project/FMBC/downstream/finetune/dataset_csv/TCGA-BRCA-SUBTYPE.CSV', '/home/yuhaowang/project/FMBC/downstream/finetune/dataset_csv/IMPRESS_PCR.CSV', '/home/yuhaowang/project/FMBC/downstream/finetune/dataset_csv/MULTI-OMIC_ASCAT-PURITY.CSV', '/home/yuhaowang/project/FMBC/downstream/finetune/dataset_csv/TIM3.CSV', '/home/yuhaowang/project/FMBC/downstream/finetune/dataset_csv/SLNBREAST_2SUBTYPE.CSV', '/home/yuhaowang/project/FMBC/downstream/finetune/dataset_csv/HLA.E.CSV', '/home/yuhaowang/project/FMBC/downstream/finetune/dataset_csv/TEM.CD8.CSV', '/home/yuhaowang/project/FMBC/downstream/finetune/dataset_csv/MDSC.CSV', '/home/yuhaowang/project/FMBC/downstream/finetune/dataset_csv/TCGA-BRCA_MOLECULAR_SUBTYPING.CSV', '/home/yuhaowang/project/FMBC/downstream/finetune/dataset_csv/IMPRESS_PD-L1-STROMA.CSV', '/home/yuhaowang/project/FMBC/downstream/finetune/dataset_csv/BCNB_TUMOR.CSV', '/home/yuhaowang/project/FMBC/downstream/finetune/dataset_csv/CTLA.4.CSV', '/home/yuhaowang/project/FMBC/downstream/finetune/dataset_csv/AIDPATH_CERB2.CSV', '/home/yuhaowang/project/FMBC/downstream/finetune/dataset_csv/BCNB_PR.CSV', '/home/yuhaowang/project/FMBC/downstream/finetune/dataset_csv/TCGA-BRCA-SURVIVAL.CSV', '/home/yuhaowang/project/FMBC/downstream/finetune/dataset_csv/IMPRESS_CD163-INTRATUMORAL.CSV', '/home/yuhaowang/project/FMBC/downstream/finetune/dataset_csv/CD27.CSV', '/home/yuhaowang/project/FMBC/downstream/finetune/dataset_csv/POST-NAT-HERIHC(REACTION).CSV', '/home/yuhaowang/project/FMBC/downstream/finetune/dataset_csv/POSTNAT_HEP_2SUBTYPE.CSV', '/home/yuhaowang/project/FMBC/downstream/finetune/dataset_csv/HLA.A.CSV', '/home/yuhaowang/project/FMBC/downstream/finetune/dataset_csv/BCNB_HER2.CSV', '/home/yuhaowang/project/FMBC/downstream/finetune/dataset_csv/LAG3.CSV', '/home/yuhaowang/project/FMBC/downstream/finetune/dataset_csv/HLA.F.CSV', '/home/yuhaowang/project/FMBC/downstream/finetune/dataset_csv/AIDPATH_GRADE.CSV', '/home/yuhaowang/project/FMBC/downstream/finetune/dataset_csv/TREG.CSV']\n"
     ]
    }
   ],
   "source": [
    "import os\n",
    "import glob\n",
    "csv_dir = '/home/yuhaowang/project/FMBC/downstream/finetune/dataset_csv'\n",
    "csv_file = glob.glob(os.path.join(csv_dir, '**/*.CSV'), recursive=True)\n",
    "print(csv_file)\n",
    "\n",
    "#rename all file with capital letter\n",
    "for file in csv_file:\n",
    "    file_name = os.path.basename(file)\n",
    "    new_file_name = file_name.upper()\n",
    "    new_file_name = new_file_name.replace('.CSV','.csv' )\n",
    "    os.rename(file, os.path.join(csv_dir, new_file_name))\n"
   ]
  },
  {
   "cell_type": "code",
   "execution_count": 6,
   "metadata": {},
   "outputs": [],
   "source": [
    "import pandas as pd\n",
    "temp_path ='/home/yuhaowang/project/FMBC/downstream/finetune/dataset_csv/CAMELYON16_TEST_CANCER.csv'\n",
    "\n",
    "df = pd.read_csv(temp_path)"
   ]
  },
  {
   "cell_type": "code",
   "execution_count": 9,
   "metadata": {},
   "outputs": [
    {
     "data": {
      "text/plain": [
       "0      NaN\n",
       "1      NaN\n",
       "2      NaN\n",
       "3      NaN\n",
       "4      NaN\n",
       "      ... \n",
       "394    NaN\n",
       "395    NaN\n",
       "396    NaN\n",
       "397    NaN\n",
       "398    NaN\n",
       "Name: label, Length: 399, dtype: object"
      ]
     },
     "execution_count": 9,
     "metadata": {},
     "output_type": "execute_result"
    }
   ],
   "source": [
    "#map label col  0 -> Normal, 1-Tumor\n",
    "df['label'].map({0:'Normal',1:'Tumor'})"
   ]
  },
  {
   "cell_type": "code",
   "execution_count": 10,
   "metadata": {},
   "outputs": [
    {
     "data": {
      "text/plain": [
       "0       Tumor\n",
       "1       Tumor\n",
       "2      Normal\n",
       "3       Tumor\n",
       "4      Normal\n",
       "        ...  \n",
       "394         1\n",
       "395         1\n",
       "396         1\n",
       "397         1\n",
       "398         1\n",
       "Name: label, Length: 399, dtype: object"
      ]
     },
     "execution_count": 10,
     "metadata": {},
     "output_type": "execute_result"
    }
   ],
   "source": [
    "df['label']"
   ]
  }
 ],
 "metadata": {
  "kernelspec": {
   "display_name": "UNI",
   "language": "python",
   "name": "python3"
  },
  "language_info": {
   "codemirror_mode": {
    "name": "ipython",
    "version": 3
   },
   "file_extension": ".py",
   "mimetype": "text/x-python",
   "name": "python",
   "nbconvert_exporter": "python",
   "pygments_lexer": "ipython3",
   "version": "3.10.16"
  }
 },
 "nbformat": 4,
 "nbformat_minor": 2
}
