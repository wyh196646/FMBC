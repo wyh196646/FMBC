{
 "cells": [
  {
   "cell_type": "code",
   "execution_count": 5,
   "metadata": {},
   "outputs": [
    {
     "name": "stdout",
     "output_type": "stream",
     "text": [
      "(586, 1280)\n",
      "(1569, 1280)\n",
      "(557, 1280)\n",
      "(844, 1280)\n",
      "(1212, 1280)\n",
      "(987, 1280)\n",
      "(1057, 1280)\n",
      "(509, 1280)\n",
      "(694, 1280)\n",
      "(1372, 1280)\n",
      "(714, 1280)\n",
      "(788, 1280)\n",
      "(1381, 1280)\n",
      "(922, 1280)\n",
      "(881, 1280)\n",
      "(721, 1280)\n",
      "(596, 1280)\n",
      "(1006, 1280)\n",
      "(1243, 1280)\n",
      "(655, 1280)\n",
      "(492, 1280)\n",
      "(589, 1280)\n",
      "(1228, 1280)\n",
      "(1322, 1280)\n",
      "(1455, 1280)\n",
      "(892, 1280)\n",
      "(1190, 1280)\n",
      "(1519, 1280)\n",
      "(968, 1280)\n",
      "(593, 1280)\n",
      "(1213, 1280)\n",
      "(637, 1280)\n",
      "(646, 1280)\n",
      "(561, 1280)\n",
      "(944, 1280)\n",
      "(907, 1280)\n",
      "(671, 1280)\n",
      "(1142, 1280)\n",
      "(1037, 1280)\n",
      "(778, 1280)\n",
      "(1477, 1280)\n",
      "(854, 1280)\n",
      "(717, 1280)\n",
      "(1009, 1280)\n",
      "(1389, 1280)\n",
      "(1266, 1280)\n",
      "(1194, 1280)\n",
      "(910, 1280)\n",
      "(645, 1280)\n",
      "(996, 1280)\n",
      "(947, 1280)\n",
      "(855, 1280)\n",
      "(790, 1280)\n",
      "(949, 1280)\n",
      "(995, 1280)\n",
      "(827, 1280)\n",
      "(912, 1280)\n",
      "(633, 1280)\n",
      "(757, 1280)\n",
      "(1063, 1280)\n",
      "(614, 1280)\n",
      "(863, 1280)\n",
      "(525, 1280)\n",
      "(752, 1280)\n",
      "(726, 1280)\n",
      "(1005, 1280)\n",
      "(1009, 1280)\n",
      "(1109, 1280)\n",
      "(1093, 1280)\n",
      "(1475, 1280)\n",
      "(1535, 1280)\n",
      "(930, 1280)\n",
      "(1253, 1280)\n",
      "(1207, 1280)\n",
      "(1414, 1280)\n",
      "(607, 1280)\n",
      "(984, 1280)\n",
      "(1253, 1280)\n",
      "(1049, 1280)\n",
      "(1205, 1280)\n",
      "(869, 1280)\n",
      "(1428, 1280)\n",
      "(827, 1280)\n",
      "(728, 1280)\n",
      "(1157, 1280)\n",
      "(633, 1280)\n",
      "(1337, 1280)\n",
      "(1134, 1280)\n",
      "(1511, 1280)\n",
      "(1423, 1280)\n",
      "(419, 1280)\n",
      "(1346, 1280)\n",
      "(790, 1280)\n",
      "(1221, 1280)\n",
      "(680, 1280)\n",
      "(628, 1280)\n"
     ]
    }
   ],
   "source": [
    "import os\n",
    "import h5py\n",
    "import numpy as np\n",
    "h5_dir = '/data4/embedding/Post-NAT-BRCA/Virchow'\n",
    "#h5_dir = '/data4/embedding/BCNB/CHIEF'\n",
    "def read_assets_from_h5(h5_path: str):\n",
    "    \"\"\"Read the assets from the h5 file\"\"\"\n",
    "    assets = {}\n",
    "    attrs = {}\n",
    "    try:\n",
    "        with h5py.File(h5_path, 'r') as f:\n",
    "            for key in f.keys():\n",
    "                assets[key] = f[key][:]\n",
    "                if f[key].attrs is not None:\n",
    "                    attrs[key] = dict(f[key].attrs)\n",
    "        return assets, attrs\n",
    "    except Exception as e:\n",
    "        print(f'Error reading {h5_path}: {e}')\n",
    "        return None, None\n",
    "def read_assets_from_h5(h5_path: str):\n",
    "    \"\"\"Read the assets from the h5 file\"\"\"\n",
    "    assets = {}\n",
    "    attrs = {}\n",
    "    try:\n",
    "        with h5py.File(h5_path, 'r') as f:\n",
    "            for key in f.keys():\n",
    "                assets[key] = f[key][:]\n",
    "                if f[key].attrs is not None:\n",
    "                    attrs[key] = dict(f[key].attrs)\n",
    "        return assets, attrs\n",
    "    except Exception as e:\n",
    "        print(f'Error reading {h5_path}: {e}')\n",
    "        return None, None\n",
    "    \n",
    "for file in os.listdir(h5_dir):\n",
    "    if file.endswith('.h5'):\n",
    "        #print(file)\n",
    "        try:\n",
    "            h5_file = os.path.join(h5_dir, file)\n",
    "            assets, attrs = read_assets_from_h5(h5_file)\n",
    "\n",
    "            #print(assets.keys())\n",
    "            #print(assets['coords'].shape)\n",
    "            print(assets['features'].shape)\n",
    "        except:\n",
    "            print(f'Error reading {h5_file}')\n",
    "            break\n",
    "            pass\n"
   ]
  },
  {
   "cell_type": "code",
   "execution_count": 1,
   "metadata": {},
   "outputs": [
    {
     "data": {
      "text/plain": [
       "dict_keys(['coords', 'features'])"
      ]
     },
     "execution_count": 1,
     "metadata": {},
     "output_type": "execute_result"
    }
   ],
   "source": [
    "h5_dir = '/data4/embedding/AHSL/FMBC_Slide/S02300.h5'\n",
    "import h5py\n",
    "def read_assets_from_h5(h5_path: str):\n",
    "    \"\"\"Read the assets from the h5 file\"\"\"\n",
    "    assets = {}\n",
    "    attrs = {}\n",
    "    with h5py.File(h5_path, 'r') as f:\n",
    "        for key in f.keys():\n",
    "            assets[key] = f[key][:]\n",
    "            if f[key].attrs is not None:\n",
    "                attrs[key] = dict(f[key].attrs)\n",
    "    return assets, attrs\n",
    "\n",
    "assets, attrs = read_assets_from_h5(h5_dir)\n",
    "assets.keys()"
   ]
  },
  {
   "cell_type": "code",
   "execution_count": 2,
   "metadata": {},
   "outputs": [
    {
     "data": {
      "text/plain": [
       "(1, 768)"
      ]
     },
     "execution_count": 2,
     "metadata": {},
     "output_type": "execute_result"
    }
   ],
   "source": [
    "assets['features'].shape\n"
   ]
  },
  {
   "cell_type": "code",
   "execution_count": 3,
   "metadata": {},
   "outputs": [
    {
     "data": {
      "text/plain": [
       "(1, 2)"
      ]
     },
     "execution_count": 3,
     "metadata": {},
     "output_type": "execute_result"
    }
   ],
   "source": [
    "assets['coords'].shape"
   ]
  },
  {
   "cell_type": "code",
   "execution_count": null,
   "metadata": {},
   "outputs": [],
   "source": []
  },
  {
   "cell_type": "code",
   "execution_count": 30,
   "metadata": {},
   "outputs": [
    {
     "data": {
      "text/plain": [
       "label\n",
       "100    209\n",
       "0      100\n",
       "90      90\n",
       "80      30\n",
       "85      30\n",
       "20      10\n",
       "95      10\n",
       "98      10\n",
       "70      10\n",
       "Name: count, dtype: int64"
      ]
     },
     "execution_count": 30,
     "metadata": {},
     "output_type": "execute_result"
    }
   ],
   "source": [
    "import pandas as pd\n",
    "file_path ='/home/yuhaowang/project/FMBC/downstream/finetune/dataset_csv/biomarker/AIDPATH_RESTR.csv'\n",
    "data = pd.read_csv(file_path)\n",
    "data['label'].value_counts()"
   ]
  }
 ],
 "metadata": {
  "kernelspec": {
   "display_name": "UNI",
   "language": "python",
   "name": "python3"
  },
  "language_info": {
   "codemirror_mode": {
    "name": "ipython",
    "version": 3
   },
   "file_extension": ".py",
   "mimetype": "text/x-python",
   "name": "python",
   "nbconvert_exporter": "python",
   "pygments_lexer": "ipython3",
   "version": "3.10.16"
  }
 },
 "nbformat": 4,
 "nbformat_minor": 2
}
