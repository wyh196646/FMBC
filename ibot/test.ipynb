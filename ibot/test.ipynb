{
 "cells": [
  {
   "cell_type": "code",
   "execution_count": 2,
   "metadata": {},
   "outputs": [],
   "source": [
    "import h5py\n",
    "import numpy as np\n",
    "import matplotlib.pyplot as plt\n",
    "from matplotlib.colors import ListedColormap\n",
    "from sklearn.cluster import KMeans\n",
    "import logging\n",
    "import math\n",
    "import numpy as np\n",
    "import torch\n",
    "from torch.nn import ModuleList\n",
    "from functools import partial\n",
    "from typing import List, Tuple, Dict, Optional, Any\n",
    "from torchvision.transforms import Compose, RandomApply\n",
    "from torchvision.transforms import functional as F\n",
    "from torchvision.transforms.transforms import _setup_angle, _check_sequence_input\n",
    "from torch import Tensor\n",
    "from collections import defaultdict, deque\n",
    "from pathlib import Path\n",
    "from torch import nn\n",
    "from PIL import ImageFilter, ImageOps, Image, ImageDraw\n",
    "import glob\n",
    "import os\n",
    "def read_assets_from_h5( h5_path: str) -> tuple:\n",
    "    '''Read the assets frdom the h5 file'''\n",
    "    assets = {}\n",
    "    attrs = {}\n",
    "    with h5py.File(h5_path, 'r') as f:\n",
    "        for key in f.keys():\n",
    "            assets[key] = f[key][:]\n",
    "            if f[key].attrs is not None:\n",
    "                attrs[key] = dict(f[key].attrs)\n",
    "    return assets, attrs"
   ]
  },
  {
   "cell_type": "code",
   "execution_count": null,
   "metadata": {},
   "outputs": [
    {
     "name": "stdout",
     "output_type": "stream",
     "text": [
      "remove the file: /data4/embedding/private_chunk_3/FMBC/S12867.h5\n"
     ]
    }
   ],
   "source": [
    "\n",
    "h5_file_list = feature_path= [f for f in Path('/data4/embedding').rglob('*.h5')]\n",
    "#print(h5_file_list)\n",
    "for file in h5_file_list:\n",
    "    try:\n",
    "        data=read_assets_from_h5(file)[0]\n",
    "        feature = data['features']\n",
    "        coords = data['coords']\n",
    "\n",
    "        if len(coords.shape) != 2:\n",
    "            print('remove the file:', file)\n",
    "        if feature.shape[0] <= 8:\n",
    "            print('remove the file:', file)\n",
    "            os.remove(file)\n",
    "    except:\n",
    "        print('can not open:', file)\n",
    "        #os remove\n",
    "        os.remove(file)\n",
    " \n",
    "    "
   ]
  }
 ],
 "metadata": {
  "kernelspec": {
   "display_name": "UNI",
   "language": "python",
   "name": "python3"
  },
  "language_info": {
   "codemirror_mode": {
    "name": "ipython",
    "version": 3
   },
   "file_extension": ".py",
   "mimetype": "text/x-python",
   "name": "python",
   "nbconvert_exporter": "python",
   "pygments_lexer": "ipython3",
   "version": "3.10.16"
  }
 },
 "nbformat": 4,
 "nbformat_minor": 2
}
