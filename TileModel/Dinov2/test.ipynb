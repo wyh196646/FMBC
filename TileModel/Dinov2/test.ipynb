{
 "cells": [
  {
   "cell_type": "code",
   "execution_count": null,
   "metadata": {},
   "outputs": [
    {
     "name": "stdout",
     "output_type": "stream",
     "text": [
      "找到 3012726 张 PNG 图片\n",
      "示例文件: ['/data4/processed_data/BRACS/output/BRACS_1779.svs/90916x_24772y.png', '/data4/processed_data/BRACS/output/BRACS_1779.svs/71460x_23748y.png', '/data4/processed_data/BRACS/output/BRACS_1779.svs/88868x_42180y.png', '/data4/processed_data/BRACS/output/BRACS_1779.svs/86820x_26820y.png', '/data4/processed_data/BRACS/output/BRACS_1779.svs/31524x_14532y.png']\n"
     ]
    }
   ],
   "source": [
    "\n",
    "\n",
    "\n",
    "\n",
    "# 修正 root_dir 传入目录，而不是 .svs 文件\n",
    "root_dir = '/data4/processed_data/BRACS/output/'  # 确保这里是目录，而不是 .svs 文件\n",
    "res_list = find_png_files_parallel(root_dir, 8)\n",
    "\n",
    "print(f\"找到 {len(res_list)} 张 PNG 图片\")\n",
    "print(\"示例文件:\", res_list[:5])  # 仅打印前 5 个文件，避免输出过多\n"
   ]
  },
  {
   "cell_type": "code",
   "execution_count": 21,
   "metadata": {},
   "outputs": [],
   "source": [
    "import glob\n",
    "import os\n",
    "import h5py\n",
    "import re\n",
    "import numpy as np\n",
    "embedding_dir = '/data4/embedding/temp/embedding'\n",
    "image_path = '/data4/processed_data/BRACS/output/BRACS_1295.svs/42692x_42868y.png'\n",
    "\n",
    "\n",
    "dataset_name = image_path.split('/')[-4]\n",
    "slide_name = image_path.split('/')[-2]\n",
    "target_h5 = os.path.join(embedding_dir,dataset_name,'UNI-2',slide_name.split('.')[0]+'.h5')\n",
    "extract_coords = np.array([int(num) for num in re.findall(r'\\d+', image_path.split('/')[-1])])"
   ]
  },
  {
   "cell_type": "code",
   "execution_count": 22,
   "metadata": {},
   "outputs": [
    {
     "data": {
      "text/plain": [
       "array([42692, 42868])"
      ]
     },
     "execution_count": 22,
     "metadata": {},
     "output_type": "execute_result"
    }
   ],
   "source": [
    "extract_coords"
   ]
  },
  {
   "cell_type": "code",
   "execution_count": 6,
   "metadata": {},
   "outputs": [],
   "source": [
    "def read_assets_from_h5( h5_path: str) -> tuple:\n",
    "    assets = {}\n",
    "    attrs = {}\n",
    "    with h5py.File(h5_path, 'r') as f:\n",
    "        for key in f.keys():\n",
    "            assets[key] = f[key][:]\n",
    "            if f[key].attrs is not None:\n",
    "                attrs[key] = dict(f[key].attrs)\n",
    "    return assets, attrs"
   ]
  },
  {
   "cell_type": "code",
   "execution_count": 7,
   "metadata": {},
   "outputs": [],
   "source": [
    "assets, attrs = read_assets_from_h5(target_h5)"
   ]
  },
  {
   "cell_type": "code",
   "execution_count": 22,
   "metadata": {},
   "outputs": [
    {
     "name": "stdout",
     "output_type": "stream",
     "text": [
      "22397\n"
     ]
    }
   ],
   "source": [
    "\n",
    "print(len(glob.glob(os.path.join('/data4/embedding/temp', \"**/*.h5\"), recursive=True)))"
   ]
  }
 ],
 "metadata": {
  "kernelspec": {
   "display_name": "UNI",
   "language": "python",
   "name": "python3"
  },
  "language_info": {
   "codemirror_mode": {
    "name": "ipython",
    "version": 3
   },
   "file_extension": ".py",
   "mimetype": "text/x-python",
   "name": "python",
   "nbconvert_exporter": "python",
   "pygments_lexer": "ipython3",
   "version": "3.10.16"
  }
 },
 "nbformat": 4,
 "nbformat_minor": 2
}
