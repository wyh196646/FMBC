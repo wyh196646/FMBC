{
 "cells": [
  {
   "cell_type": "code",
   "execution_count": 2,
   "metadata": {},
   "outputs": [],
   "source": [
    "import os\n",
    "\n",
    "def get_unprocessed_datasets(data_dir, processed_dir, feat_prefix_name):\n",
    "    \"\"\"获取未处理的数据集\"\"\"\n",
    "    all_datasets = os.listdir(data_dir)\n",
    "    processed_datasets = os.listdir(processed_dir) if os.path.exists(processed_dir) else []\n",
    "    #all_datasets drop item BreakHis\n",
    "    all_datasets.remove(\"BreakHis\")\n",
    "    #remove BACH\n",
    "    all_datasets.remove(\"BACH\")\n",
    "    unprocessed_dataset = []\n",
    "    for d in all_datasets:\n",
    "        if not os.path.exists(os.path.join(processed_dir, d, feat_prefix_name)):\n",
    "            os.makedirs(os.path.join(processed_dir, d, feat_prefix_name), exist_ok=True)\n",
    "        if len(os.listdir(os.path.join(data_dir, d, 'output'))) - len(os.listdir(os.path.join(processed_dir, d, feat_prefix_name))) > 10:\n",
    "            unprocessed_dataset.append(d)\n",
    "    return unprocessed_dataset\n",
    "\n",
    "data_dir = '/data4/processed_data'  \n",
    "save_dir = '/data4/embedding/temp/embedding'\n",
    "feat_prefix_name = 'UNI-2'\n",
    "        \n",
    "unprocessed_datasets = get_unprocessed_datasets(data_dir, save_dir, feat_prefix_name)"
   ]
  }
 ],
 "metadata": {
  "kernelspec": {
   "display_name": "UNI",
   "language": "python",
   "name": "python3"
  },
  "language_info": {
   "codemirror_mode": {
    "name": "ipython",
    "version": 3
   },
   "file_extension": ".py",
   "mimetype": "text/x-python",
   "name": "python",
   "nbconvert_exporter": "python",
   "pygments_lexer": "ipython3",
   "version": "3.10.16"
  }
 },
 "nbformat": 4,
 "nbformat_minor": 2
}
