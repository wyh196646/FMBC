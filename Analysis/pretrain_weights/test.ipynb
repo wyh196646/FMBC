{
 "cells": [
  {
   "cell_type": "code",
   "execution_count": 3,
   "metadata": {},
   "outputs": [],
   "source": [
    "import torch\n",
    "from collections import OrderedDict\n",
    "from vision_transformer import DinoVisionTransformer  # 导入您的ViT模型\n",
    "\n",
    "vit_h =  DinoVisionTransformer(**{\n",
    "            'img_size': 224, \n",
    "            'patch_size': 14, \n",
    "            'depth': 24,\n",
    "            'embed_dim': 1536,\n",
    "            'num_heads': 24,\n",
    "            'init_values': 1e-5, \n",
    "            'embed_dim': 1536,\n",
    "            'mlp_ratio': 2.66667*2,\n",
    "            'ffn_layer' :\"SwiGLUPacked\",\n",
    "            'act_layer': torch.nn.SiLU, \n",
    "            'num_register_tokens': 8 })"
   ]
  },
  {
   "cell_type": "code",
   "execution_count": null,
   "metadata": {},
   "outputs": [],
   "source": []
  },
  {
   "cell_type": "code",
   "execution_count": null,
   "metadata": {},
   "outputs": [],
   "source": [
    "import torch\n",
    "import torch.nn as nn\n",
    "# Load the state_dict from the saved file\n",
    "state_dict = torch.load('pytorch_model.bin')\n",
    "model = vit_h\n",
    "model_state_dict = vit_h.state_dict()\n",
    "# Create a copy of the state_dict with updated key names\n",
    "updated_state_dict = {}\n",
    "\n",
    "for key in state_dict.keys():\n",
    "    if 'blocks' in key:\n",
    "        # Rename keys from 'blocks' to 'blocks.0'\n",
    "        new_key = key.replace('blocks', 'blocks.0')\n",
    "        if new_key in model.state_dict().keys():\n",
    "            updated_state_dict[new_key] = state_dict[key]\n",
    "    elif 'reg_token' in key:\n",
    "        #updated_state_dict['register_tokens']= state_dict[key]\n",
    "        new_key = 'register_tokens'\n",
    "        if new_key in model.state_dict().keys():\n",
    "            updated_state_dict[new_key] = state_dict[key]\n",
    "    elif key == 'pos_embed':\n",
    "    # Handle pos_embed with missing cls_token dimension\n",
    "        pos_embed = state_dict[key]\n",
    "        if pos_embed.shape[1] + 1 == model.state_dict()[key].shape[1]:\n",
    "            cls_token_embed = torch.zeros(1, 1, pos_embed.shape[2])\n",
    "            torch.nn.init.trunc_normal_(cls_token_embed, std=0.02)\n",
    "            updated_pos_embed = torch.cat([cls_token_embed, pos_embed], dim=1)\n",
    "            updated_state_dict[key] = updated_pos_embed\n",
    "    else:\n",
    "        if key in model.state_dict().keys():\n",
    "            updated_state_dict[key] = state_dict[key]\n",
    "        else:\n",
    "            print(f\"Key {key} not found in the model's state_dict\")\n",
    "\n",
    "updated_state_dict['mask_token'] = torch.randn(1, 1536) * 0.02\n",
    "\n",
    "torch.nn.init.trunc_normal_(updated_state_dict['mask_token'], std=0.02)\n",
    "# Save the updated state_dict back to a file\n",
    "torch.save(updated_state_dict, 'UNI_2_updated.bin')\n",
    "model_dict = torch.load('/ruiyan/yuhao/project/FMBC/pretrain_weights/UNI_2_updated.bin')\n",
    "vit_h.load_state_dict(model_dict)"
   ]
  },
  {
   "cell_type": "code",
   "execution_count": null,
   "metadata": {},
   "outputs": [],
   "source": []
  },
  {
   "cell_type": "code",
   "execution_count": null,
   "metadata": {},
   "outputs": [],
   "source": []
  },
  {
   "cell_type": "code",
   "execution_count": null,
   "metadata": {},
   "outputs": [],
   "source": []
  },
  {
   "cell_type": "code",
   "execution_count": null,
   "metadata": {},
   "outputs": [],
   "source": []
  },
  {
   "cell_type": "code",
   "execution_count": null,
   "metadata": {},
   "outputs": [],
   "source": []
  },
  {
   "cell_type": "code",
   "execution_count": null,
   "metadata": {},
   "outputs": [
    {
     "name": "stderr",
     "output_type": "stream",
     "text": [
      "/tmp/ipykernel_20577/774191056.py:20: FutureWarning: You are using `torch.load` with `weights_only=False` (the current default value), which uses the default pickle module implicitly. It is possible to construct malicious pickle data which will execute arbitrary code during unpickling (See https://github.com/pytorch/pytorch/blob/main/SECURITY.md#untrusted-models for more details). In a future release, the default value for `weights_only` will be flipped to `True`. This limits the functions that could be executed during unpickling. Arbitrary objects will no longer be allowed to be loaded via this mode unless they are explicitly allowlisted by the user via `torch.serialization.add_safe_globals`. We recommend you start setting `weights_only=True` for any use case where you don't have full control of the loaded file. Please open an issue on GitHub for any issues related to this experimental feature.\n",
      "  state_dict = torch.load('Virchow_2.bin')\n"
     ]
    }
   ],
   "source": [
    "import torch\n",
    "import torch.nn as nn\n",
    "# Load the state_dict from the saved file\n",
    "import torch\n",
    "from collections import OrderedDict\n",
    "from vision_transformer import DinoVisionTransformer  # 导入您的ViT模型\n",
    "\n",
    "vit_h =  DinoVisionTransformer(**{\n",
    "            'img_size': 224, \n",
    "            'patch_size': 14, \n",
    "            'depth': 24,\n",
    "            'embed_dim': 1280,\n",
    "            'num_heads': 24,\n",
    "            'init_values': 1e-5, \n",
    "            'embed_dim': 1280,\n",
    "            'mlp_ratio': 2.66667*2,\n",
    "            'ffn_layer' :\"SwiGLUPacked\",\n",
    "            'act_layer': torch.nn.SiLU, \n",
    "            'num_register_tokens': 0 })\n",
    "state_dict = torch.load('Virchow_2.bin')\n",
    "model = vit_h\n",
    "model_state_dict = vit_h.state_dict()\n",
    "# Create a copy of the state_dict with updated key names\n",
    "updated_state_dict = {}\n",
    "\n",
    "for key in state_dict.keys():\n",
    "    if 'blocks' in key:\n",
    "        # Rename keys from 'blocks' to 'blocks.0'\n",
    "        new_key = key.replace('blocks', 'blocks.0')\n",
    "        if new_key in model.state_dict().keys():\n",
    "            updated_state_dict[new_key] = state_dict[key]\n",
    "    # elif 'reg_token' in key:\n",
    "    #     #updated_state_dict['register_tokens']= state_dict[key]\n",
    "    #     new_key = 'register_tokens'\n",
    "    #     if new_key in model.state_dict().keys():\n",
    "    #         updated_state_dict[new_key] = state_dict[key]\n",
    "    # elif key == 'pos_embed':\n",
    "    # # Handle pos_embed with missing cls_token dimension\n",
    "    #     pos_embed = state_dict[key]\n",
    "    #     if pos_embed.shape[1] + 1 == model.state_dict()[key].shape[1]:\n",
    "    #         cls_token_embed = torch.zeros(1, 1, pos_embed.shape[2])\n",
    "    #         torch.nn.init.trunc_normal_(cls_token_embed, std=0.02)\n",
    "    #         updated_pos_embed = torch.cat([cls_token_embed, pos_embed], dim=1)\n",
    "    #         updated_state_dict[key] = updated_pos_embed\n",
    "    else:\n",
    "        if key in model.state_dict().keys():\n",
    "            updated_state_dict[key] = state_dict[key]\n",
    "        else:\n",
    "            print(f\"Key {key} not found in the model's state_dict\")\n",
    "\n",
    "#updated_state_dict['mask_token'] = torch.randn(1, 1536) * 0.02\n",
    "\n",
    "#torch.nn.init.trunc_normal_(updated_state_dict['mask_token'], std=0.02)\n",
    "# Save the updated state_dict back to a file\n",
    "torch.save(updated_state_dict, 'Virchow_2_updated.bin')\n"
   ]
  }
 ],
 "metadata": {
  "kernelspec": {
   "display_name": "pathobench",
   "language": "python",
   "name": "python3"
  },
  "language_info": {
   "codemirror_mode": {
    "name": "ipython",
    "version": 3
   },
   "file_extension": ".py",
   "mimetype": "text/x-python",
   "name": "python",
   "nbconvert_exporter": "python",
   "pygments_lexer": "ipython3",
   "version": "3.10.16"
  }
 },
 "nbformat": 4,
 "nbformat_minor": 2
}
